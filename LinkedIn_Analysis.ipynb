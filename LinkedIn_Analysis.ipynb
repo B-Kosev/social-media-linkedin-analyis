{
 "cells": [
  {
   "cell_type": "code",
   "execution_count": 6,
   "id": "62b34753-1334-483e-be47-b8595e7f0552",
   "metadata": {},
   "outputs": [],
   "source": [
    "from linkedin_api import Linkedin\n",
    "\n",
    "# LinkedIn Credentials\n",
    "email = ''\n",
    "password = ''\n",
    "\n",
    "# Authenticate using any Linkedin user account credentials\n",
    "api = Linkedin(email, password)\n",
    "\n",
    "# GET a profile\n",
    "# profile = api.get_profile('kosebose')\n",
    "\n",
    "# # GET a profiles contact info\n",
    "# contact_info = api.get_profile_contact_info('billy-g')\n",
    "\n",
    "# # GET 1st degree connections of a given profile\n",
    "# connections = api.get_profile_connections('1234asc12304')"
   ]
  },
  {
   "cell_type": "code",
   "execution_count": 30,
   "id": "eaf272fb-abc8-4d67-95c0-2f5662145f8c",
   "metadata": {},
   "outputs": [],
   "source": [
    "jobs = api.search_jobs(location_name='Bulgaria')"
   ]
  },
  {
   "cell_type": "code",
   "execution_count": 34,
   "id": "ca084a4d-bbbf-40f4-bf90-4027cbf26baf",
   "metadata": {},
   "outputs": [
    {
     "name": "stdout",
     "output_type": "stream",
     "text": [
      "                           Job ID  Reposted  \\\n",
      "0    urn:li:jobPosting:4024918751      True   \n",
      "1    urn:li:jobPosting:4068052383      True   \n",
      "2    urn:li:jobPosting:4015256980      True   \n",
      "3    urn:li:jobPosting:4079019700      True   \n",
      "4    urn:li:jobPosting:4110169601     False   \n",
      "..                            ...       ...   \n",
      "210  urn:li:jobPosting:4110136147     False   \n",
      "211  urn:li:jobPosting:4110136148     False   \n",
      "212  urn:li:jobPosting:4110133312     False   \n",
      "213  urn:li:jobPosting:4110133313     False   \n",
      "214  urn:li:jobPosting:4110136361     False   \n",
      "\n",
      "                                             Job Title   Poster ID  \\\n",
      "0                 Senior Front-End Developer (Angular)     4911409   \n",
      "1                             Customer Service Manager    13091134   \n",
      "2                                     Delivery Support    34287313   \n",
      "3    Manager Strategic Partnership - Groceries (The...     6397971   \n",
      "4               Data Engineering Training & Internship  1110496096   \n",
      "..                                                 ...         ...   \n",
      "210                        Senior SAP FI/CO Consultant        None   \n",
      "211             Senior Dynamics 365 Finance Consultant        None   \n",
      "212                    Strategy Manager (Key Accounts)        None   \n",
      "213                     Senior Business Analyst (ETRM)        None   \n",
      "214            AI & Data Science Training & Internship  1110496096   \n",
      "\n",
      "                   Source  \n",
      "0    JOBS_PREMIUM_OFFLINE  \n",
      "1    JOBS_PREMIUM_OFFLINE  \n",
      "2    JOBS_PREMIUM_OFFLINE  \n",
      "3    JOBS_PREMIUM_OFFLINE  \n",
      "4    JOBS_PREMIUM_OFFLINE  \n",
      "..                    ...  \n",
      "210           JOBS_CREATE  \n",
      "211           JOBS_CREATE  \n",
      "212           JOBS_CREATE  \n",
      "213           JOBS_CREATE  \n",
      "214  JOBS_PREMIUM_OFFLINE  \n",
      "\n",
      "[215 rows x 5 columns]\n"
     ]
    }
   ],
   "source": [
    "import pandas as pd\n",
    "\n",
    "# Convert the data to a DataFrame for readability\n",
    "df = pd.DataFrame(jobs)\n",
    "\n",
    "# Drop unnecessary columns for a cleaner view\n",
    "df_cleaned = df.drop(columns=['$recipeTypes', '$type', 'entityUrn'])\n",
    "\n",
    "# Rename columns for clarity\n",
    "df_cleaned = df_cleaned.rename(columns={\n",
    "    'trackingUrn': 'Job ID',\n",
    "    'repostedJob': 'Reposted',\n",
    "    'title': 'Job Title',\n",
    "    'posterId': 'Poster ID',\n",
    "    'contentSource': 'Source'\n",
    "})\n",
    "\n",
    "# Display the DataFrame\n",
    "print(df_cleaned)"
   ]
  },
  {
   "cell_type": "code",
   "execution_count": 36,
   "id": "727880e2-72ac-4346-907a-8862f0066329",
   "metadata": {},
   "outputs": [
    {
     "name": "stdout",
     "output_type": "stream",
     "text": [
      "{'dashEntityUrn': 'urn:li:fsd_jobPosting:4024918751', 'companyDetails': {'com.linkedin.voyager.deco.jobs.web.shared.WebCompactJobPostingCompany': {'companyResolutionResult': {'entityUrn': 'urn:li:fs_normalized_company:4972', 'name': 'EPAM Systems', 'logo': {'image': {'com.linkedin.common.VectorImage': {'artifacts': [{'width': 200, 'fileIdentifyingUrlPathSegment': '200_200/company-logo_200_200/0/1733480579360/epam_systems_logo?e=1743033600&v=beta&t=yFRAt6ZrcPGZtMBe6pWJnQ97MR_PceLruwz8oEzqE2Q', 'expiresAt': 1743033600000, 'height': 200}, {'width': 100, 'fileIdentifyingUrlPathSegment': '100_100/company-logo_100_100/0/1733480579360/epam_systems_logo?e=1743033600&v=beta&t=g3A-3rASWUpNxVWPMZBwVkToCwqxY5Y0AFd9ryfyRPo', 'expiresAt': 1743033600000, 'height': 100}, {'width': 400, 'fileIdentifyingUrlPathSegment': '400_400/company-logo_400_400/0/1733480579360/epam_systems_logo?e=1743033600&v=beta&t=S-G22fiilfc6bFGYkkh0dTf5_gbLGBzd0EaGiT8dR78', 'expiresAt': 1743033600000, 'height': 400}], 'rootUrl': 'https://media.licdn.com/dms/image/v2/D4D0BAQHK6-dT5uUniQ/company-logo_'}}, 'type': 'SQUARE_LOGO'}, '$recipeType': 'com.linkedin.voyager.deco.organization.shared.WebCompactCompany', 'universalName': 'epam-systems', 'url': 'https://www.linkedin.com/company/epam-systems'}, 'company': 'urn:li:fs_normalized_company:4972', '$recipeType': 'com.linkedin.voyager.deco.jobs.web.shared.WebCompactJobPostingCompany'}}, 'jobState': 'LISTED', 'description': {'attributes': [{'start': 5, 'length': 19, 'type': {'com.linkedin.pemberly.text.Bold': {}}, 'attributeKindUnion': {'bold': {}}}, {'start': 281, 'length': 1, 'type': {'com.linkedin.pemberly.text.LineBreak': {}}, 'attributeKindUnion': {'lineBreak': {}}}, {'start': 282, 'length': 1, 'type': {'com.linkedin.pemberly.text.LineBreak': {}}, 'attributeKindUnion': {'lineBreak': {}}}, {'start': 299, 'length': 1, 'type': {'com.linkedin.pemberly.text.LineBreak': {}}, 'attributeKindUnion': {'lineBreak': {}}}, {'start': 300, 'length': 1, 'type': {'com.linkedin.pemberly.text.LineBreak': {}}, 'attributeKindUnion': {'lineBreak': {}}}, {'start': 301, 'length': 1, 'type': {'com.linkedin.pemberly.text.LineBreak': {}}, 'attributeKindUnion': {'lineBreak': {}}}, {'start': 283, 'length': 19, 'type': {'com.linkedin.pemberly.text.Bold': {}}, 'attributeKindUnion': {'bold': {}}}, {'start': 302, 'length': 77, 'type': {'com.linkedin.pemberly.text.ListItem': {}}, 'attributeKindUnion': {'listItem': {}}}, {'start': 379, 'length': 59, 'type': {'com.linkedin.pemberly.text.ListItem': {}}, 'attributeKindUnion': {'listItem': {}}}, {'start': 438, 'length': 108, 'type': {'com.linkedin.pemberly.text.ListItem': {}}, 'attributeKindUnion': {'listItem': {}}}, {'start': 546, 'length': 116, 'type': {'com.linkedin.pemberly.text.ListItem': {}}, 'attributeKindUnion': {'listItem': {}}}, {'start': 662, 'length': 58, 'type': {'com.linkedin.pemberly.text.ListItem': {}}, 'attributeKindUnion': {'listItem': {}}}, {'start': 720, 'length': 21, 'type': {'com.linkedin.pemberly.text.ListItem': {}}, 'attributeKindUnion': {'listItem': {}}}, {'start': 741, 'length': 10, 'type': {'com.linkedin.pemberly.text.ListItem': {}}, 'attributeKindUnion': {'listItem': {}}}, {'start': 751, 'length': 86, 'type': {'com.linkedin.pemberly.text.ListItem': {}}, 'attributeKindUnion': {'listItem': {}}}, {'start': 857, 'length': 1, 'type': {'com.linkedin.pemberly.text.LineBreak': {}}, 'attributeKindUnion': {'lineBreak': {}}}, {'start': 858, 'length': 1, 'type': {'com.linkedin.pemberly.text.LineBreak': {}}, 'attributeKindUnion': {'lineBreak': {}}}, {'start': 859, 'length': 1, 'type': {'com.linkedin.pemberly.text.LineBreak': {}}, 'attributeKindUnion': {'lineBreak': {}}}, {'start': 837, 'length': 23, 'type': {'com.linkedin.pemberly.text.ListItem': {}}, 'attributeKindUnion': {'listItem': {}}}, {'start': 302, 'length': 558, 'type': {'com.linkedin.pemberly.text.List': {'ordered': False}}, 'attributeKindUnion': {'list': {'ordered': False}}}, {'start': 872, 'length': 1, 'type': {'com.linkedin.pemberly.text.LineBreak': {}}, 'attributeKindUnion': {'lineBreak': {}}}, {'start': 873, 'length': 1, 'type': {'com.linkedin.pemberly.text.LineBreak': {}}, 'attributeKindUnion': {'lineBreak': {}}}, {'start': 874, 'length': 1, 'type': {'com.linkedin.pemberly.text.LineBreak': {}}, 'attributeKindUnion': {'lineBreak': {}}}, {'start': 860, 'length': 15, 'type': {'com.linkedin.pemberly.text.Bold': {}}, 'attributeKindUnion': {'bold': {}}}, {'start': 875, 'length': 68, 'type': {'com.linkedin.pemberly.text.ListItem': {}}, 'attributeKindUnion': {'listItem': {}}}, {'start': 943, 'length': 91, 'type': {'com.linkedin.pemberly.text.ListItem': {}}, 'attributeKindUnion': {'listItem': {}}}, {'start': 1034, 'length': 36, 'type': {'com.linkedin.pemberly.text.ListItem': {}}, 'attributeKindUnion': {'listItem': {}}}, {'start': 1070, 'length': 60, 'type': {'com.linkedin.pemberly.text.ListItem': {}}, 'attributeKindUnion': {'listItem': {}}}, {'start': 1130, 'length': 39, 'type': {'com.linkedin.pemberly.text.ListItem': {}}, 'attributeKindUnion': {'listItem': {}}}, {'start': 1169, 'length': 10, 'type': {'com.linkedin.pemberly.text.ListItem': {}}, 'attributeKindUnion': {'listItem': {}}}, {'start': 1179, 'length': 22, 'type': {'com.linkedin.pemberly.text.ListItem': {}}, 'attributeKindUnion': {'listItem': {}}}, {'start': 1201, 'length': 33, 'type': {'com.linkedin.pemberly.text.ListItem': {}}, 'attributeKindUnion': {'listItem': {}}}, {'start': 1234, 'length': 26, 'type': {'com.linkedin.pemberly.text.ListItem': {}}, 'attributeKindUnion': {'listItem': {}}}, {'start': 1260, 'length': 59, 'type': {'com.linkedin.pemberly.text.ListItem': {}}, 'attributeKindUnion': {'listItem': {}}}, {'start': 1319, 'length': 72, 'type': {'com.linkedin.pemberly.text.ListItem': {}}, 'attributeKindUnion': {'listItem': {}}}, {'start': 1391, 'length': 121, 'type': {'com.linkedin.pemberly.text.ListItem': {}}, 'attributeKindUnion': {'listItem': {}}}, {'start': 1609, 'length': 1, 'type': {'com.linkedin.pemberly.text.LineBreak': {}}, 'attributeKindUnion': {'lineBreak': {}}}, {'start': 1610, 'length': 1, 'type': {'com.linkedin.pemberly.text.LineBreak': {}}, 'attributeKindUnion': {'lineBreak': {}}}, {'start': 1611, 'length': 1, 'type': {'com.linkedin.pemberly.text.LineBreak': {}}, 'attributeKindUnion': {'lineBreak': {}}}, {'start': 1512, 'length': 100, 'type': {'com.linkedin.pemberly.text.ListItem': {}}, 'attributeKindUnion': {'listItem': {}}}, {'start': 875, 'length': 737, 'type': {'com.linkedin.pemberly.text.List': {'ordered': False}}, 'attributeKindUnion': {'list': {'ordered': False}}}, {'start': 1620, 'length': 1, 'type': {'com.linkedin.pemberly.text.LineBreak': {}}, 'attributeKindUnion': {'lineBreak': {}}}, {'start': 1621, 'length': 1, 'type': {'com.linkedin.pemberly.text.LineBreak': {}}, 'attributeKindUnion': {'lineBreak': {}}}, {'start': 1622, 'length': 1, 'type': {'com.linkedin.pemberly.text.LineBreak': {}}, 'attributeKindUnion': {'lineBreak': {}}}, {'start': 1612, 'length': 11, 'type': {'com.linkedin.pemberly.text.Bold': {}}, 'attributeKindUnion': {'bold': {}}}, {'start': 1623, 'length': 109, 'type': {'com.linkedin.pemberly.text.ListItem': {}}, 'attributeKindUnion': {'listItem': {}}}, {'start': 1732, 'length': 80, 'type': {'com.linkedin.pemberly.text.ListItem': {}}, 'attributeKindUnion': {'listItem': {}}}, {'start': 1812, 'length': 50, 'type': {'com.linkedin.pemberly.text.ListItem': {}}, 'attributeKindUnion': {'listItem': {}}}, {'start': 1862, 'length': 71, 'type': {'com.linkedin.pemberly.text.ListItem': {}}, 'attributeKindUnion': {'listItem': {}}}, {'start': 1933, 'length': 89, 'type': {'com.linkedin.pemberly.text.ListItem': {}}, 'attributeKindUnion': {'listItem': {}}}, {'start': 2022, 'length': 75, 'type': {'com.linkedin.pemberly.text.ListItem': {}}, 'attributeKindUnion': {'listItem': {}}}, {'start': 2097, 'length': 108, 'type': {'com.linkedin.pemberly.text.ListItem': {}}, 'attributeKindUnion': {'listItem': {}}}, {'start': 2205, 'length': 66, 'type': {'com.linkedin.pemberly.text.ListItem': {}}, 'attributeKindUnion': {'listItem': {}}}, {'start': 2271, 'length': 79, 'type': {'com.linkedin.pemberly.text.ListItem': {}}, 'attributeKindUnion': {'listItem': {}}}, {'start': 2350, 'length': 84, 'type': {'com.linkedin.pemberly.text.ListItem': {}}, 'attributeKindUnion': {'listItem': {}}}, {'start': 2783, 'length': 1, 'type': {'com.linkedin.pemberly.text.LineBreak': {}}, 'attributeKindUnion': {'lineBreak': {}}}, {'start': 2784, 'length': 1, 'type': {'com.linkedin.pemberly.text.LineBreak': {}}, 'attributeKindUnion': {'lineBreak': {}}}, {'start': 2785, 'length': 1, 'type': {'com.linkedin.pemberly.text.LineBreak': {}}, 'attributeKindUnion': {'lineBreak': {}}}, {'start': 2434, 'length': 352, 'type': {'com.linkedin.pemberly.text.ListItem': {}}, 'attributeKindUnion': {'listItem': {}}}, {'start': 1623, 'length': 1163, 'type': {'com.linkedin.pemberly.text.List': {'ordered': False}}, 'attributeKindUnion': {'list': {'ordered': False}}}], 'text': \"As a Front-End Developer, you'll play a pivotal role in maintaining and enhancing our end-to-end frontend and backend stacks. We're seeking a candidate with expertise in both modern frontend development, particularly with a strong foundation in JavaScript and Angular technologies.\\n\\nResponsibilities\\n\\n\\nExecute user interface designs from product requirements and UI specificationDevelop componentized UI architecture providing UI elementsApply design principles and user experience to implement high-fidelity Mock-ups as well as interaction flowsCollaborate with back-end developers and architects to develop a scalable, standardized and flexible UI architectureInvestigate and address possible security issues in the UIDevelop UI unit testsBug fixingProvide expertise and mentoring for user interface design and testing to project teamsPerform code reviews\\n\\n\\nRequirements\\n\\n\\nBachelor's degree in Computer Science, Engineering, or related fieldProven experience in frontend and backend development, with a strong emphasis on JavaScript4 years of UI Development experienceBe proficient in front-end technologies including JavaScriptReal production experience with AngularTypeScriptHTML5, CSS3, SASS/LESSCross Browser Code (WebKit based)AJAX, REST, Web API designKnowledge of at least one JavaScript unit testing frameworkStrong problem-solving skills and ability to troubleshoot complex issuesExcellent communication and teamwork skills, with a proven ability to collaborate effectively with cross-functional teamsAbility to thrive in a fast-paced, dynamic environment and manage multiple priorities effectively\\n\\n\\nWe offer\\n\\n\\nOpportunity to Engineer your Future and to drive the world’s digital transformation with top industry clientsPersonal development program that will allow you to be valued for your strengthsWide range of professional trainings and workshopsBeing part of a collaborative, fast-growing, and innovative design teamEstablished and accelerated growth toward different career paths, competencies, and rolesBroad projects variety and possible mobility between projects over the timeCollaboration in a multicultural environment and exchange of best practices with colleagues around the worldVaried social benefits, Sports, Transportation and Health programsWork-life balance and flexible schedule, team buildings and sport opportunitiesModern office/collaboration spaces (incl. new Infinity Tower business center, Sofia)Hybrid By Design - we provide you with the best productivity options from the 2 worlds. Meet, socialize and enjoy F2F time with your colleagues, while working from the modern EPAM's office for a few days per week and benefit from the EPAM's virtual working environment - making you able to be productive and work from remote for the rest of the week\\n\\n\\n\"}, 'title': 'Senior Front-End Developer (Angular)', 'entityUrn': 'urn:li:fs_normalized_jobPosting:4024918751', 'workRemoteAllowed': False, 'applyMethod': {'com.linkedin.voyager.jobs.OffsiteApply': {'applyStartersPreferenceVoid': True, 'companyApplyUrl': 'https://www.epam.com/careers/job-listings/job.epamgdo_blt84bfbf48e553f0ad_en-us_Sofia_Bulgaria?utm_source=Linkedin.com&utm_medium=job_slots&utm_campaign=LinkedIn_Job_Wrapping_XML&utm_content=epamgdo_blt84bfbf48e553f0ad_en-us_Sofia_Bulgaria', 'inPageOffsiteApply': False}}, 'talentHubJob': False, 'formattedLocation': 'Sofia, Sofia City, Bulgaria', 'workplaceTypes': ['urn:li:fs_workplaceType:1'], 'listedAt': 1735208098000, 'jobPostingId': 4024918751, '$recipeType': 'com.linkedin.voyager.deco.jobs.web.shared.WebLightJobPosting', 'workplaceTypesResolutionResults': {'urn:li:fs_workplaceType:1': {'localizedName': 'On-site', '$recipeType': 'com.linkedin.voyager.deco.jobs.shared.WebJobDetailsWorkplaceType', 'entityUrn': 'urn:li:fs_workplaceType:1'}}}\n"
     ]
    }
   ],
   "source": [
    "print(api.get_job(job_id='4024918751'))"
   ]
  },
  {
   "cell_type": "code",
   "execution_count": null,
   "id": "72a248ae-620c-4c19-9e59-eb1ae46eef01",
   "metadata": {},
   "outputs": [],
   "source": []
  }
 ],
 "metadata": {
  "kernelspec": {
   "display_name": "Python 3 (ipykernel)",
   "language": "python",
   "name": "python3"
  },
  "language_info": {
   "codemirror_mode": {
    "name": "ipython",
    "version": 3
   },
   "file_extension": ".py",
   "mimetype": "text/x-python",
   "name": "python",
   "nbconvert_exporter": "python",
   "pygments_lexer": "ipython3",
   "version": "3.12.4"
  }
 },
 "nbformat": 4,
 "nbformat_minor": 5
}
